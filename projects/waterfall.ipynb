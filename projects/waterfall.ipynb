{
 "cells": [
  {
   "cell_type": "code",
   "execution_count": null,
   "metadata": {},
   "outputs": [
    {
     "ename": "",
     "evalue": "",
     "output_type": "error",
     "traceback": [
      "\u001b[1;31mFailed to start the Kernel. \n",
      "\u001b[1;31mJupyter notebook failed to launch. \n",
      "\u001b[1;31mKernel not initialized in Session. \n",
      "\u001b[1;31mView Jupyter <a href='command:jupyter.viewOutput'>log</a> for further details."
     ]
    }
   ],
   "source": [
    "import numpy as np\n",
    "\n",
    "# Define tranches\n",
    "tranches = {\n",
    "    \"A\": {\"balance\": 500000, \"interest_rate\": 0.05, \"priority\": 1},\n",
    "    \"B\": {\"balance\": 300000, \"interest_rate\": 0.07, \"priority\": 2},\n",
    "    \"C\": {\"balance\": 200000, \"interest_rate\": 0.10, \"priority\": 3}  # Equity tranche\n",
    "}\n",
    "\n",
    "# Monthly incoming cash flow\n",
    "cash_inflow = 50000\n",
    "\n",
    "def calculate_interest(tranches):\n",
    "    \"\"\"Calculates interest due for each tranche.\"\"\"\n",
    "    return {k: v[\"balance\"] * v[\"interest_rate\"] / 12 for k, v in tranches.items()}\n",
    "\n",
    "def apply_cash_flow(cash, tranches):\n",
    "    \"\"\"Distributes cash flow in a waterfall structure.\"\"\"\n",
    "    remaining_cash = cash\n",
    "    payments = {k: 0 for k in tranches.keys()}\n",
    "    \n",
    "    # Sort tranches by priority\n",
    "    sorted_tranches = sorted(tranches.items(), key=lambda x: x[1][\"priority\"])\n",
    "    \n",
    "    # Step 1: Pay interest\n",
    "    interest_due = calculate_interest(tranches)\n",
    "    for tranche, details in sorted_tranches:\n",
    "        if remaining_cash >= interest_due[tranche]:\n",
    "            payments[tranche] += interest_due[tranche]\n",
    "            remaining_cash -= interest_due[tranche]\n",
    "        else:\n",
    "            payments[tranche] += remaining_cash\n",
    "            remaining_cash = 0\n",
    "            break  # No more cash left\n",
    "    \n",
    "    # Step 2: Pay down principal (if cash remains)\n",
    "    for tranche, details in sorted_tranches:\n",
    "        if remaining_cash > 0 and tranches[tranche][\"balance\"] > 0:\n",
    "            pay_amount = min(tranches[tranche][\"balance\"], remaining_cash)\n",
    "            payments[tranche] += pay_amount\n",
    "            tranches[tranche][\"balance\"] -= pay_amount\n",
    "            remaining_cash -= pay_amount\n",
    "    \n",
    "    return payments, remaining_cash\n",
    "\n",
    "# Run waterfall calculation\n",
    "payments, remaining_cash = apply_cash_flow(cash_inflow, tranches)\n",
    "\n",
    "# Print results\n",
    "print(\"Cash Flow Waterfall Distribution:\")\n",
    "for tranche, amount in payments.items():\n",
    "    print(f\"Tranche {tranche}: ${amount:,.2f}\")\n",
    "print(f\"Remaining cash after payments: ${remaining_cash:,.2f}\")\n"
   ]
  }
 ],
 "metadata": {
  "kernelspec": {
   "display_name": "Python 3",
   "language": "python",
   "name": "python3"
  },
  "language_info": {
   "name": "python",
   "version": "3.13.2"
  }
 },
 "nbformat": 4,
 "nbformat_minor": 2
}
